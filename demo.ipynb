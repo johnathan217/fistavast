{
 "cells": [
  {
   "cell_type": "markdown",
   "metadata": {},
   "source": [
    "# Sparse Autoencoder Training Demo\n",
    "\n",
    "This demo trains a sparse autoencoder on activations from a Tiny Stories 1M model.\n",
    "\n",
    "To do this we setup a *source model* (the TinyStories model) that we want to generate activations\n",
    "from, along with a *source dataset* of prompts to help generate these activations.\n",
    "\n",
    "We also setup a *sparse autoencoder model* which we'll train on these generated activations, to\n",
    "learn a sparse representation of them in higher dimensional space.\n",
    "\n",
    "Finally we'll wrap this all together in a *pipeline*, which alternates between generating\n",
    "activations (storing them in ram), and training the SAE on said activations."
   ]
  },
  {
   "cell_type": "markdown",
   "metadata": {},
   "source": [
    "## Setup"
   ]
  },
  {
   "cell_type": "markdown",
   "metadata": {},
   "source": [
    "### Imports"
   ]
  },
  {
   "cell_type": "code",
   "execution_count": 1,
   "metadata": {
    "ExecuteTime": {
     "end_time": "2023-12-20T18:38:11.422286700Z",
     "start_time": "2023-12-20T18:37:54.388207800Z"
    }
   },
   "outputs": [
    {
     "ename": "ModuleNotFoundError",
     "evalue": "No module named 'pytest'",
     "output_type": "error",
     "traceback": [
      "\u001B[1;31m---------------------------------------------------------------------------\u001B[0m",
      "\u001B[1;31mModuleNotFoundError\u001B[0m                       Traceback (most recent call last)",
      "Cell \u001B[1;32mIn[1], line 8\u001B[0m\n\u001B[0;32m      5\u001B[0m \u001B[38;5;28;01mfrom\u001B[39;00m \u001B[38;5;21;01mpathlib\u001B[39;00m \u001B[38;5;28;01mimport\u001B[39;00m Path\n\u001B[0;32m      7\u001B[0m \u001B[38;5;28;01mimport\u001B[39;00m \u001B[38;5;21;01mtorch\u001B[39;00m\n\u001B[1;32m----> 8\u001B[0m \u001B[38;5;28;01mfrom\u001B[39;00m \u001B[38;5;21;01mtransformer_lens\u001B[39;00m \u001B[38;5;28;01mimport\u001B[39;00m HookedTransformer\n\u001B[0;32m      9\u001B[0m \u001B[38;5;28;01mfrom\u001B[39;00m \u001B[38;5;21;01mtransformer_lens\u001B[39;00m\u001B[38;5;21;01m.\u001B[39;00m\u001B[38;5;21;01mutils\u001B[39;00m \u001B[38;5;28;01mimport\u001B[39;00m get_device\n\u001B[0;32m     10\u001B[0m \u001B[38;5;28;01mfrom\u001B[39;00m \u001B[38;5;21;01mtransformers\u001B[39;00m \u001B[38;5;28;01mimport\u001B[39;00m PreTrainedTokenizerBase\n",
      "File \u001B[1;32m~\\OneDrive - BT Plc\\Documents\\AI work\\sparse_autoencoder\\venv\\Lib\\site-packages\\transformer_lens\\__init__.py:2\u001B[0m\n\u001B[0;32m      1\u001B[0m \u001B[38;5;28;01mfrom\u001B[39;00m \u001B[38;5;21;01m.\u001B[39;00m \u001B[38;5;28;01mimport\u001B[39;00m hook_points\n\u001B[1;32m----> 2\u001B[0m \u001B[38;5;28;01mfrom\u001B[39;00m \u001B[38;5;21;01m.\u001B[39;00m \u001B[38;5;28;01mimport\u001B[39;00m utils\n\u001B[0;32m      3\u001B[0m \u001B[38;5;28;01mfrom\u001B[39;00m \u001B[38;5;21;01m.\u001B[39;00m \u001B[38;5;28;01mimport\u001B[39;00m evals\n\u001B[0;32m      4\u001B[0m \u001B[38;5;28;01mfrom\u001B[39;00m \u001B[38;5;21;01m.\u001B[39;00m\u001B[38;5;21;01mpast_key_value_caching\u001B[39;00m \u001B[38;5;28;01mimport\u001B[39;00m (\n\u001B[0;32m      5\u001B[0m     HookedTransformerKeyValueCache,\n\u001B[0;32m      6\u001B[0m     HookedTransformerKeyValueCacheEntry,\n\u001B[0;32m      7\u001B[0m )\n",
      "File \u001B[1;32m~\\OneDrive - BT Plc\\Documents\\AI work\\sparse_autoencoder\\venv\\Lib\\site-packages\\transformer_lens\\utils.py:16\u001B[0m\n\u001B[0;32m     14\u001B[0m \u001B[38;5;28;01mimport\u001B[39;00m \u001B[38;5;21;01meinops\u001B[39;00m\n\u001B[0;32m     15\u001B[0m \u001B[38;5;28;01mimport\u001B[39;00m \u001B[38;5;21;01mnumpy\u001B[39;00m \u001B[38;5;28;01mas\u001B[39;00m \u001B[38;5;21;01mnp\u001B[39;00m\n\u001B[1;32m---> 16\u001B[0m \u001B[38;5;28;01mimport\u001B[39;00m \u001B[38;5;21;01mpytest\u001B[39;00m\n\u001B[0;32m     17\u001B[0m \u001B[38;5;28;01mimport\u001B[39;00m \u001B[38;5;21;01mtorch\u001B[39;00m\n\u001B[0;32m     18\u001B[0m \u001B[38;5;28;01mimport\u001B[39;00m \u001B[38;5;21;01mtorch\u001B[39;00m\u001B[38;5;21;01m.\u001B[39;00m\u001B[38;5;21;01mnn\u001B[39;00m\u001B[38;5;21;01m.\u001B[39;00m\u001B[38;5;21;01mfunctional\u001B[39;00m \u001B[38;5;28;01mas\u001B[39;00m \u001B[38;5;21;01mF\u001B[39;00m\n",
      "\u001B[1;31mModuleNotFoundError\u001B[0m: No module named 'pytest'"
     ]
    }
   ],
   "source": [
    "%load_ext autoreload\n",
    "%autoreload 2\n",
    "\n",
    "import os\n",
    "from pathlib import Path\n",
    "\n",
    "import torch\n",
    "from transformer_lens import HookedTransformer\n",
    "from transformer_lens.utils import get_device\n",
    "from transformers import PreTrainedTokenizerBase\n",
    "import wandb\n",
    "\n",
    "from sparse_autoencoder.autoencoder.fista_autoencoder import FistaSparseAutoencoder\n",
    "from sparse_autoencoder import SparseAutoencoder\n",
    "from sparse_autoencoder.activation_resampler import ActivationResampler\n",
    "from sparse_autoencoder.loss.learned_activations_l1 import LearnedActivationsL1Loss\n",
    "from sparse_autoencoder.loss.mse_reconstruction_loss import MSEReconstructionLoss\n",
    "from sparse_autoencoder.loss.reducer import LossReducer\n",
    "from sparse_autoencoder.optimizer.adam_with_reset import AdamWithReset\n",
    "from sparse_autoencoder.source_data.text_dataset import GenericTextDataset\n",
    "from sparse_autoencoder.train.pipeline import Pipeline\n",
    "\n",
    "\n",
    "os.environ[\"TOKENIZERS_PARALLELISM\"] = \"false\"\n",
    "\n",
    "device = get_device()\n",
    "print(f\"Using device: {device}\")  # You will need a GPU"
   ]
  },
  {
   "cell_type": "markdown",
   "metadata": {},
   "source": [
    "### Hyperparameters"
   ]
  },
  {
   "cell_type": "markdown",
   "metadata": {},
   "source": [
    "The way this library works is that you can define your own hyper-parameters and then setup the\n",
    "underlying components with them. This is extremely flexible, but to help you get started we've\n",
    "included some common ones below along with some sensible defaults. You can also easily sweep through\n",
    "multiple hyperparameters with `wandb.sweep`."
   ]
  },
  {
   "cell_type": "code",
   "execution_count": null,
   "metadata": {
    "ExecuteTime": {
     "start_time": "2023-12-20T18:38:11.395373600Z"
    }
   },
   "outputs": [],
   "source": [
    "hyperparameters = {\n",
    "    # Expansion factor is the number of features in the sparse representation, relative to the\n",
    "    # number of features in the original MLP layer. The original paper experimented with 1x to 256x,\n",
    "    # and we have found that 4x is a good starting point.\n",
    "    \"expansion_factor\": 4,\n",
    "    # L1 coefficient is the coefficient of the L1 regularization term (used to encourage sparsity).\n",
    "    \"l1_coefficient\": 0.001,\n",
    "    # Adam parameters (set to the default ones here)\n",
    "    \"lr\": 0.001,\n",
    "    \"adam_beta_1\": 0.9,\n",
    "    \"adam_beta_2\": 0.999,\n",
    "    \"adam_epsilon\": 1e-8,\n",
    "    \"adam_weight_decay\": 0.0,\n",
    "    # Batch sizes\n",
    "    \"train_batch_size\": 8192,\n",
    "}"
   ]
  },
  {
   "cell_type": "markdown",
   "metadata": {},
   "source": [
    "### Source Model"
   ]
  },
  {
   "cell_type": "markdown",
   "metadata": {},
   "source": [
    "The source model is just a [TransformerLens](https://github.com/neelnanda-io/TransformerLens) model\n",
    "(see [here](https://neelnanda-io.github.io/TransformerLens/generated/model_properties_table.html)\n",
    "for a full list of supported models).\n",
    "\n",
    "In this example we're training a sparse autoencoder on the activations from the first MLP layer, so\n",
    "we'll also get some details about that hook point."
   ]
  },
  {
   "cell_type": "code",
   "execution_count": null,
   "metadata": {
    "ExecuteTime": {
     "start_time": "2023-12-20T18:38:11.397870800Z"
    }
   },
   "outputs": [],
   "source": [
    "# Source model setup with TransformerLens\n",
    "src_model_name = \"tiny-stories-1M\"\n",
    "src_model = HookedTransformer.from_pretrained(src_model_name, dtype=\"float32\")\n",
    "\n",
    "# Details about the activations we'll train the sparse autoencoder on\n",
    "src_model_activation_hook_point = \"blocks.0.mlp.hook_post\"\n",
    "src_model_activation_layer = 0\n",
    "src_d_mlp: int = src_model.cfg.d_mlp  # type: ignore (TransformerLens typing is currently broken)\n",
    "\n",
    "f\"Source: {src_model_name}, Hook: {src_model_activation_hook_point}, Features: {src_d_mlp}\""
   ]
  },
  {
   "cell_type": "markdown",
   "metadata": {},
   "source": [
    "### Sparse Autoencoder"
   ]
  },
  {
   "cell_type": "markdown",
   "metadata": {},
   "source": [
    "We can then setup the sparse autoencoder. The default model (`SparseAutoencoder`) is setup as per\n",
    "the original Anthropic paper [Towards Monosemanticity: Decomposing Language Models With Dictionary\n",
    "Learning ](https://transformer-circuits.pub/2023/monosemantic-features/index.html).\n",
    "\n",
    "However it's just a standard PyTorch model, so you can create your own model instead if you want to\n",
    "use a different architecture. To do this you just need to extend the `AbstractAutoencoder`, and\n",
    "optionally the underlying `AbstractEncoder`, `AbstractDecoder` and `AbstractOuterBias`. See these\n",
    "classes (which are fully documented) for more details."
   ]
  },
  {
   "cell_type": "code",
   "execution_count": null,
   "metadata": {
    "ExecuteTime": {
     "start_time": "2023-12-20T18:38:11.401344900Z"
    }
   },
   "outputs": [],
   "source": [
    "expansion_factor = hyperparameters[\"expansion_factor\"]\n",
    "autoencoder = FistaSparseAutoencoder(\n",
    "    n_input_features=src_d_mlp,  # size of the activations we are autoencoding\n",
    "    n_learned_features=int(src_d_mlp * expansion_factor),  # size of SAE\n",
    "    geometric_median_dataset=torch.zeros(src_d_mlp),  # this is used to initialize the tied bias\n",
    ").to(device)\n",
    "autoencoder  # Print the model (it's pretty straightforward)"
   ]
  },
  {
   "cell_type": "markdown",
   "metadata": {},
   "source": [
    "We'll also want to setup an Optimizer and Loss function. In this case we'll also use the standard\n",
    "approach from the original Anthropic paper. However you can create your own loss functions and\n",
    "optimizers by extending `AbstractLoss` and `AbstractOptimizerWithReset` respectively."
   ]
  },
  {
   "cell_type": "code",
   "execution_count": null,
   "metadata": {
    "ExecuteTime": {
     "start_time": "2023-12-20T18:38:11.404951300Z"
    }
   },
   "outputs": [],
   "source": [
    "# We use a loss reducer, which simply adds up the losses from the underlying loss functions.\n",
    "loss = LossReducer(\n",
    "    LearnedActivationsL1Loss(\n",
    "        l1_coefficient=hyperparameters[\"l1_coefficient\"],\n",
    "    ),\n",
    "    MSEReconstructionLoss(),\n",
    ")\n",
    "loss"
   ]
  },
  {
   "cell_type": "code",
   "execution_count": null,
   "metadata": {
    "ExecuteTime": {
     "start_time": "2023-12-20T18:38:11.407406800Z"
    }
   },
   "outputs": [],
   "source": [
    "optimizer = AdamWithReset(\n",
    "    params=autoencoder.parameters(),\n",
    "    named_parameters=autoencoder.named_parameters(),\n",
    "    lr=hyperparameters[\"lr\"],\n",
    "    betas=(hyperparameters[\"adam_beta_1\"], hyperparameters[\"adam_beta_2\"]),\n",
    "    eps=hyperparameters[\"adam_epsilon\"],\n",
    "    weight_decay=hyperparameters[\"adam_weight_decay\"],\n",
    ")\n",
    "optimizer"
   ]
  },
  {
   "cell_type": "markdown",
   "metadata": {},
   "source": [
    "Finally we'll initialise an activation resampler."
   ]
  },
  {
   "cell_type": "code",
   "execution_count": null,
   "metadata": {
    "ExecuteTime": {
     "start_time": "2023-12-20T18:38:11.410303400Z"
    }
   },
   "outputs": [],
   "source": [
    "activation_resampler = ActivationResampler()"
   ]
  },
  {
   "cell_type": "markdown",
   "metadata": {},
   "source": [
    "### Source dataset"
   ]
  },
  {
   "cell_type": "markdown",
   "metadata": {},
   "source": [
    "This is just a dataset of tokenized prompts, to be used in generating activations (which are in turn\n",
    "used to train the SAE)."
   ]
  },
  {
   "cell_type": "code",
   "execution_count": null,
   "metadata": {
    "ExecuteTime": {
     "start_time": "2023-12-20T18:38:11.413135900Z"
    }
   },
   "outputs": [],
   "source": [
    "tokenizer: PreTrainedTokenizerBase = src_model.tokenizer  # type: ignore\n",
    "source_data = GenericTextDataset(tokenizer=tokenizer, dataset_path=\"roneneldan/TinyStories\")"
   ]
  },
  {
   "cell_type": "markdown",
   "metadata": {},
   "source": [
    "###"
   ]
  },
  {
   "cell_type": "markdown",
   "metadata": {},
   "source": [
    "## Training"
   ]
  },
  {
   "cell_type": "markdown",
   "metadata": {},
   "source": [
    "If you initialise [wandb](https://wandb.ai/site), the pipeline will automatically log all metrics to\n",
    "wandb. However, we should pass in a dictionary with all of our hyperaparameters so they're on \n",
    "wandb. \n",
    "\n",
    "We strongly encourage users to make use of wandb in order to understand the training process."
   ]
  },
  {
   "cell_type": "code",
   "execution_count": null,
   "metadata": {
    "ExecuteTime": {
     "start_time": "2023-12-20T18:38:11.415707800Z"
    }
   },
   "outputs": [],
   "source": [
    "Path(\".cache/\").mkdir(exist_ok=True)\n",
    "# wandb.init(\n",
    "#     project=\"sparse-autoencoder\",\n",
    "#     dir=\".cache\",\n",
    "#     config=hyperparameters,\n",
    "# )"
   ]
  },
  {
   "cell_type": "code",
   "execution_count": null,
   "metadata": {
    "ExecuteTime": {
     "start_time": "2023-12-20T18:38:11.418054300Z"
    }
   },
   "outputs": [],
   "source": [
    "max_store_size = 1_000_0\n",
    "max_activations = 10_000_0\n",
    "resample_frequency = 2_500_0\n",
    "source_data_batch_size = 8\n",
    "\n",
    "pipeline = Pipeline(\n",
    "    cache_name=src_model_activation_hook_point,\n",
    "    layer=src_model_activation_layer,\n",
    "    source_model=src_model,\n",
    "    autoencoder=autoencoder,\n",
    "    source_dataset=source_data,\n",
    "    optimizer=optimizer,\n",
    "    loss=loss,\n",
    "    activation_resampler=activation_resampler,\n",
    "    source_data_batch_size=source_data_batch_size,\n",
    ")\n",
    "\n",
    "# pipeline.run_pipeline(\n",
    "#     train_batch_size=int(hyperparameters[\"train_batch_size\"]),\n",
    "#     max_store_size=max_store_size,\n",
    "#     # Sizes for demo purposes (you probably want to scale these by 10x)\n",
    "#     max_activations=max_activations,\n",
    "#     resample_frequency=resample_frequency,\n",
    "# )\n",
    "\n",
    "# pipeline.run_pipeline(\n",
    "#     train_batch_size=int(hyperparameters[\"train_batch_size\"]),\n",
    "#     max_store_size=1_000_000,\n",
    "#     # Sizes for demo purposes (you probably want to scale these by 10x)\n",
    "#     max_activations=10_000_000,\n",
    "#     resample_frequency=2_500_000,\n",
    "# )"
   ]
  },
  {
   "cell_type": "code",
   "execution_count": null,
   "outputs": [],
   "source": [
    "from sparse_autoencoder.metrics.post_train.fvu_metric import FVUMetric\n",
    "from sparse_autoencoder.metrics.post_train.sparsity import SparsityMetric\n",
    "from sparse_autoencoder.metrics.post_train.abstract_post_train_metric import PostTrainMetricData\n",
    "from torch.utils.data import DataLoader\n",
    "\n",
    "\n",
    "def get_fvu_sparsity(autoencoder, activation_batch):\n",
    "    \n",
    "    data = PostTrainMetricData(\n",
    "            input_activations = activation_batch,\n",
    "            learned_activations = torch.tensor([0]),\n",
    "            decoded_activations = torch.tensor([0]),\n",
    "            model = autoencoder\n",
    "        )\n",
    "\n",
    "    # fvu uses only input_activations and model\n",
    "    fvu_metric = FVUMetric()\n",
    "    fvu = fvu_metric.calculate(data)\n",
    "        \n",
    "    sparsity_metric = SparsityMetric()\n",
    "    sparsity = sparsity_metric.calculate(data)\n",
    "        \n",
    "    return sparsity, fvu\n",
    "\n",
    "\n",
    "def get_fvu_sparsity_average(autoencoder, source_data, pipeline, max_store_size, source_data_batch_size, num_iterations):\n",
    "    fvu_values = []\n",
    "    sparsity_values = []\n",
    "    \n",
    "    store_size = max_store_size - max_store_size % (\n",
    "        source_data_batch_size * source_data.context_size\n",
    "    )\n",
    "\n",
    "    activation_store = pipeline.generate_activations(store_size=store_size)\n",
    "    activations_dataloader = DataLoader(\n",
    "                activation_store,\n",
    "                batch_size=int(hyperparameters[\"train_batch_size\"]),\n",
    "            )\n",
    "    i = 0\n",
    "    for activation_batch in activations_dataloader:\n",
    "        sparsity_dict, fvu_dict = get_fvu_sparsity(autoencoder, activation_batch)\n",
    "    \n",
    "        sparsity = sparsity_dict['sparsity']\n",
    "        fvu = fvu_dict['fvu'].item()\n",
    "\n",
    "        sparsity_values.append(sparsity)\n",
    "        fvu_values.append(fvu)\n",
    "        i+=1\n",
    "        if i == num_iterations:\n",
    "            break\n",
    "\n",
    "\n",
    "    mean_fvu = sum(fvu_values) / num_iterations\n",
    "    mean_sparsity = sum(sparsity_values) / num_iterations\n",
    "\n",
    "    variance_fvu = sum((x - mean_fvu) ** 2 for x in fvu_values) / num_iterations\n",
    "    variance_sparsity = sum((x - mean_sparsity) ** 2 for x in sparsity_values) / num_iterations\n",
    "\n",
    "    return mean_sparsity, mean_fvu, variance_sparsity, variance_fvu"
   ],
   "metadata": {
    "collapsed": false,
    "ExecuteTime": {
     "start_time": "2023-12-20T18:38:11.420775400Z"
    }
   }
  },
  {
   "cell_type": "code",
   "execution_count": null,
   "outputs": [],
   "source": [
    "min_l1_coefficient = 0.001  \n",
    "max_l1_coefficient = 0.01   \n",
    "num_runs = 4              \n",
    "\n",
    "save = True\n",
    "\n",
    "step_size = (max_l1_coefficient - min_l1_coefficient) / (num_runs - 1)\n",
    "\n",
    "for i in range(num_runs):\n",
    "    run_name = f\"run_{i}\"  \n",
    "    with wandb.init(project=\"sparse-autoencoder\", name=run_name, dir=\".cache\", config=hyperparameters):\n",
    "        \n",
    "        current_l1_coefficient = round(min_l1_coefficient + (i * step_size), 6)\n",
    "\n",
    "        loss = LossReducer(\n",
    "            LearnedActivationsL1Loss(l1_coefficient=current_l1_coefficient),\n",
    "            MSEReconstructionLoss(),\n",
    "        )\n",
    "\n",
    "        pipeline = Pipeline(\n",
    "            cache_name=src_model_activation_hook_point,\n",
    "            layer=src_model_activation_layer,\n",
    "            source_model=src_model,\n",
    "            autoencoder=autoencoder,\n",
    "            source_dataset=source_data,\n",
    "            optimizer=optimizer,\n",
    "            loss=loss,\n",
    "            activation_resampler=activation_resampler,\n",
    "            source_data_batch_size=source_data_batch_size,\n",
    "        )\n",
    "\n",
    "        # pipeline.run_pipeline(\n",
    "        #     train_batch_size=int(hyperparameters[\"train_batch_size\"]),\n",
    "        #     max_store_size=max_store_size,\n",
    "        #     max_activations=max_activations,\n",
    "        #     resample_frequency=resample_frequency,\n",
    "        # )\n",
    "        # \n",
    "        \n",
    "        sparsity, fvu, variance_sparsity, variance_fvu = get_fvu_sparsity_average(autoencoder, source_data, pipeline, max_store_size, source_data_batch_size, num_iterations=25)\n",
    "\n",
    "        wandb.log({\"sparsity\": sparsity, \"fvu\": fvu, \"l1_coefficient\": current_l1_coefficient, \"variance_sparsity\": variance_sparsity, \"variance_fvu\": variance_fvu})\n",
    "\n",
    "        filename = f\"fista_{i}_{current_l1_coefficient}\"\n",
    "        if save:\n",
    "            with open(filename + \".txt\", 'w') as file:\n",
    "                for key, value in hyperparameters.items():\n",
    "                    file.write(f\"{key}: {value}\\n\")\n",
    "                file.write(f\"l1_coefficient: {current_l1_coefficient}\\n\")  \n",
    "                file.write(f\"sparsity: {sparsity}\\n\")\n",
    "                file.write(f\"fvu: {fvu}\\n\")\n",
    "                file.write(f\"variance_sparsity: {variance_sparsity}\\n\")\n",
    "                file.write(f\"variance_fvu: {variance_fvu}\\n\")\n",
    "\n",
    "            torch.save(autoencoder.state_dict(), filename + \".pt\")\n"
   ],
   "metadata": {
    "collapsed": false,
    "ExecuteTime": {
     "end_time": "2023-12-20T18:38:11.424170300Z",
     "start_time": "2023-12-20T18:38:11.423346Z"
    }
   }
  },
  {
   "cell_type": "code",
   "execution_count": null,
   "metadata": {
    "ExecuteTime": {
     "start_time": "2023-12-20T18:38:11.425334Z"
    }
   },
   "outputs": [],
   "source": [
    "wandb.finish()"
   ]
  },
  {
   "cell_type": "markdown",
   "metadata": {},
   "source": [
    "## Training Advice\n",
    "\n",
    "-- Unfinished --\n",
    "\n",
    "- Check recovery loss is low while sparsity is low as well (<20 L1) usually.\n",
    "- Can't be sure features are useful until you dig into them more. "
   ]
  },
  {
   "cell_type": "markdown",
   "metadata": {},
   "source": [
    "# Analysis\n",
    "\n",
    "-- Unfinished --"
   ]
  },
  {
   "cell_type": "code",
   "execution_count": null,
   "metadata": {
    "ExecuteTime": {
     "start_time": "2023-12-20T18:38:11.428151Z"
    }
   },
   "outputs": [],
   "source": []
  }
 ],
 "metadata": {
  "kernelspec": {
   "display_name": ".venv",
   "language": "python",
   "name": "python3"
  },
  "language_info": {
   "codemirror_mode": {
    "name": "ipython",
    "version": 3
   },
   "file_extension": ".py",
   "mimetype": "text/x-python",
   "name": "python",
   "nbconvert_exporter": "python",
   "pygments_lexer": "ipython3",
   "version": "3.11.6"
  }
 },
 "nbformat": 4,
 "nbformat_minor": 2
}

{
 "cells": [
  {
   "cell_type": "markdown",
   "metadata": {},
   "source": [
    "# Sparse Autoencoder Training Demo\n",
    "\n",
    "This demo trains a sparse autoencoder on activations from a Tiny Stories 1M model.\n",
    "\n",
    "To do this we setup a *source model* (the TinyStories model) that we want to generate activations\n",
    "from, along with a *source dataset* of prompts to help generate these activations.\n",
    "\n",
    "We also setup a *sparse autoencoder model* which we'll train on these generated activations, to\n",
    "learn a sparse representation of them in higher dimensional space.\n",
    "\n",
    "Finally we'll wrap this all together in a *pipeline*, which alternates between generating\n",
    "activations (storing them in ram), and training the SAE on said activations."
   ]
  },
  {
   "cell_type": "markdown",
   "metadata": {},
   "source": [
    "## Setup"
   ]
  },
  {
   "cell_type": "markdown",
   "metadata": {},
   "source": [
    "### Imports"
   ]
  },
  {
   "cell_type": "code",
   "execution_count": 75,
   "metadata": {
    "ExecuteTime": {
     "end_time": "2023-12-17T20:36:13.244138400Z",
     "start_time": "2023-12-17T20:36:08.594332400Z"
    }
   },
   "outputs": [
    {
     "name": "stdout",
     "output_type": "stream",
     "text": [
      "The autoreload extension is already loaded. To reload it, use:\n",
      "  %reload_ext autoreload\n",
      "Using device: cpu\n"
     ]
    }
   ],
   "source": [
    "%load_ext autoreload\n",
    "%autoreload 2\n",
    "\n",
    "import os\n",
    "from pathlib import Path\n",
    "\n",
    "import torch\n",
    "from transformer_lens import HookedTransformer\n",
    "from transformer_lens.utils import get_device\n",
    "from transformers import PreTrainedTokenizerBase\n",
    "import wandb\n",
    "\n",
    "from sparse_autoencoder.autoencoder.fista_autoencoder import FistaSparseAutoencoder\n",
    "from sparse_autoencoder import SparseAutoencoder\n",
    "from sparse_autoencoder.activation_resampler import ActivationResampler\n",
    "from sparse_autoencoder.loss.learned_activations_l1 import LearnedActivationsL1Loss\n",
    "from sparse_autoencoder.loss.mse_reconstruction_loss import MSEReconstructionLoss\n",
    "from sparse_autoencoder.loss.reducer import LossReducer\n",
    "from sparse_autoencoder.optimizer.adam_with_reset import AdamWithReset\n",
    "from sparse_autoencoder.source_data.text_dataset import GenericTextDataset\n",
    "from sparse_autoencoder.train.pipeline import Pipeline\n",
    "\n",
    "\n",
    "os.environ[\"TOKENIZERS_PARALLELISM\"] = \"false\"\n",
    "\n",
    "device = get_device()\n",
    "print(f\"Using device: {device}\")  # You will need a GPU"
   ]
  },
  {
   "cell_type": "markdown",
   "metadata": {},
   "source": [
    "### Hyperparameters"
   ]
  },
  {
   "cell_type": "markdown",
   "metadata": {},
   "source": [
    "The way this library works is that you can define your own hyper-parameters and then setup the\n",
    "underlying components with them. This is extremely flexible, but to help you get started we've\n",
    "included some common ones below along with some sensible defaults. You can also easily sweep through\n",
    "multiple hyperparameters with `wandb.sweep`."
   ]
  },
  {
   "cell_type": "code",
   "execution_count": 76,
   "metadata": {
    "ExecuteTime": {
     "end_time": "2023-12-17T20:36:13.822179200Z",
     "start_time": "2023-12-17T20:36:13.225454100Z"
    }
   },
   "outputs": [],
   "source": [
    "hyperparameters = {\n",
    "    # Expansion factor is the number of features in the sparse representation, relative to the\n",
    "    # number of features in the original MLP layer. The original paper experimented with 1x to 256x,\n",
    "    # and we have found that 4x is a good starting point.\n",
    "    \"expansion_factor\": 4,\n",
    "    # L1 coefficient is the coefficient of the L1 regularization term (used to encourage sparsity).\n",
    "    \"l1_coefficient\": 0.001,\n",
    "    # Adam parameters (set to the default ones here)\n",
    "    \"lr\": 0.001,\n",
    "    \"adam_beta_1\": 0.9,\n",
    "    \"adam_beta_2\": 0.999,\n",
    "    \"adam_epsilon\": 1e-8,\n",
    "    \"adam_weight_decay\": 0.0,\n",
    "    # Batch sizes\n",
    "    \"train_batch_size\": 8192,\n",
    "}"
   ]
  },
  {
   "cell_type": "markdown",
   "metadata": {},
   "source": [
    "### Source Model"
   ]
  },
  {
   "cell_type": "markdown",
   "metadata": {},
   "source": [
    "The source model is just a [TransformerLens](https://github.com/neelnanda-io/TransformerLens) model\n",
    "(see [here](https://neelnanda-io.github.io/TransformerLens/generated/model_properties_table.html)\n",
    "for a full list of supported models).\n",
    "\n",
    "In this example we're training a sparse autoencoder on the activations from the first MLP layer, so\n",
    "we'll also get some details about that hook point."
   ]
  },
  {
   "cell_type": "code",
   "execution_count": 77,
   "metadata": {
    "ExecuteTime": {
     "end_time": "2023-12-17T20:36:20.070065200Z",
     "start_time": "2023-12-17T20:36:13.816153300Z"
    }
   },
   "outputs": [
    {
     "name": "stdout",
     "output_type": "stream",
     "text": [
      "Loaded pretrained model tiny-stories-1M into HookedTransformer\n"
     ]
    },
    {
     "data": {
      "text/plain": "'Source: tiny-stories-1M, Hook: blocks.0.mlp.hook_post, Features: 256'"
     },
     "execution_count": 77,
     "metadata": {},
     "output_type": "execute_result"
    }
   ],
   "source": [
    "# Source model setup with TransformerLens\n",
    "src_model_name = \"tiny-stories-1M\"\n",
    "src_model = HookedTransformer.from_pretrained(src_model_name, dtype=\"float32\")\n",
    "\n",
    "# Details about the activations we'll train the sparse autoencoder on\n",
    "src_model_activation_hook_point = \"blocks.0.mlp.hook_post\"\n",
    "src_model_activation_layer = 0\n",
    "src_d_mlp: int = src_model.cfg.d_mlp  # type: ignore (TransformerLens typing is currently broken)\n",
    "\n",
    "f\"Source: {src_model_name}, Hook: {src_model_activation_hook_point}, Features: {src_d_mlp}\""
   ]
  },
  {
   "cell_type": "markdown",
   "metadata": {},
   "source": [
    "### Sparse Autoencoder"
   ]
  },
  {
   "cell_type": "markdown",
   "metadata": {},
   "source": [
    "We can then setup the sparse autoencoder. The default model (`SparseAutoencoder`) is setup as per\n",
    "the original Anthropic paper [Towards Monosemanticity: Decomposing Language Models With Dictionary\n",
    "Learning ](https://transformer-circuits.pub/2023/monosemantic-features/index.html).\n",
    "\n",
    "However it's just a standard PyTorch model, so you can create your own model instead if you want to\n",
    "use a different architecture. To do this you just need to extend the `AbstractAutoencoder`, and\n",
    "optionally the underlying `AbstractEncoder`, `AbstractDecoder` and `AbstractOuterBias`. See these\n",
    "classes (which are fully documented) for more details."
   ]
  },
  {
   "cell_type": "code",
   "execution_count": 78,
   "metadata": {
    "ExecuteTime": {
     "end_time": "2023-12-17T20:36:20.764680600Z",
     "start_time": "2023-12-17T20:36:20.059485100Z"
    }
   },
   "outputs": [
    {
     "data": {
      "text/plain": "FistaSparseAutoencoder(\n  (_pre_encoder_bias): TiedBias(position=pre_encoder)\n  (_encoder): LinearEncoder(\n    in_features=256, out_features=1024\n    (activation_function): ReLU()\n  )\n  (_decoder): UnitNormDecoder(in_features=1024, out_features=256)\n  (_post_decoder_bias): TiedBias(position=post_decoder)\n)"
     },
     "execution_count": 78,
     "metadata": {},
     "output_type": "execute_result"
    }
   ],
   "source": [
    "expansion_factor = hyperparameters[\"expansion_factor\"]\n",
    "autoencoder = FistaSparseAutoencoder(\n",
    "    n_input_features=src_d_mlp,  # size of the activations we are autoencoding\n",
    "    n_learned_features=int(src_d_mlp * expansion_factor),  # size of SAE\n",
    "    geometric_median_dataset=torch.zeros(src_d_mlp),  # this is used to initialize the tied bias\n",
    ").to(device)\n",
    "autoencoder  # Print the model (it's pretty straightforward)"
   ]
  },
  {
   "cell_type": "markdown",
   "metadata": {},
   "source": [
    "We'll also want to setup an Optimizer and Loss function. In this case we'll also use the standard\n",
    "approach from the original Anthropic paper. However you can create your own loss functions and\n",
    "optimizers by extending `AbstractLoss` and `AbstractOptimizerWithReset` respectively."
   ]
  },
  {
   "cell_type": "code",
   "execution_count": 79,
   "metadata": {
    "ExecuteTime": {
     "end_time": "2023-12-17T20:36:21.288928700Z",
     "start_time": "2023-12-17T20:36:20.764680600Z"
    }
   },
   "outputs": [
    {
     "data": {
      "text/plain": "LossReducer(\n  (0): LearnedActivationsL1Loss(l1_coefficient=0.001)\n  (1): MSEReconstructionLoss()\n)"
     },
     "execution_count": 79,
     "metadata": {},
     "output_type": "execute_result"
    }
   ],
   "source": [
    "# We use a loss reducer, which simply adds up the losses from the underlying loss functions.\n",
    "loss = LossReducer(\n",
    "    LearnedActivationsL1Loss(\n",
    "        l1_coefficient=hyperparameters[\"l1_coefficient\"],\n",
    "    ),\n",
    "    MSEReconstructionLoss(),\n",
    ")\n",
    "loss"
   ]
  },
  {
   "cell_type": "code",
   "execution_count": 80,
   "metadata": {
    "ExecuteTime": {
     "end_time": "2023-12-17T20:36:22.008019Z",
     "start_time": "2023-12-17T20:36:21.289684600Z"
    }
   },
   "outputs": [
    {
     "data": {
      "text/plain": "AdamWithReset (\nParameter Group 0\n    amsgrad: False\n    betas: (0.9, 0.999)\n    capturable: False\n    differentiable: False\n    eps: 1e-08\n    foreach: None\n    fused: None\n    lr: 0.001\n    maximize: False\n    weight_decay: 0.0\n)"
     },
     "execution_count": 80,
     "metadata": {},
     "output_type": "execute_result"
    }
   ],
   "source": [
    "optimizer = AdamWithReset(\n",
    "    params=autoencoder.parameters(),\n",
    "    named_parameters=autoencoder.named_parameters(),\n",
    "    lr=hyperparameters[\"lr\"],\n",
    "    betas=(hyperparameters[\"adam_beta_1\"], hyperparameters[\"adam_beta_2\"]),\n",
    "    eps=hyperparameters[\"adam_epsilon\"],\n",
    "    weight_decay=hyperparameters[\"adam_weight_decay\"],\n",
    ")\n",
    "optimizer"
   ]
  },
  {
   "cell_type": "markdown",
   "metadata": {},
   "source": [
    "Finally we'll initialise an activation resampler."
   ]
  },
  {
   "cell_type": "code",
   "execution_count": 81,
   "metadata": {
    "ExecuteTime": {
     "end_time": "2023-12-17T20:36:22.651632100Z",
     "start_time": "2023-12-17T20:36:21.978442200Z"
    }
   },
   "outputs": [],
   "source": [
    "activation_resampler = ActivationResampler()"
   ]
  },
  {
   "cell_type": "markdown",
   "metadata": {},
   "source": [
    "### Source dataset"
   ]
  },
  {
   "cell_type": "markdown",
   "metadata": {},
   "source": [
    "This is just a dataset of tokenized prompts, to be used in generating activations (which are in turn\n",
    "used to train the SAE)."
   ]
  },
  {
   "cell_type": "code",
   "execution_count": 82,
   "metadata": {
    "ExecuteTime": {
     "end_time": "2023-12-17T20:36:34.369217300Z",
     "start_time": "2023-12-17T20:36:22.647863400Z"
    }
   },
   "outputs": [],
   "source": [
    "tokenizer: PreTrainedTokenizerBase = src_model.tokenizer  # type: ignore\n",
    "source_data = GenericTextDataset(tokenizer=tokenizer, dataset_path=\"roneneldan/TinyStories\")"
   ]
  },
  {
   "cell_type": "markdown",
   "metadata": {},
   "source": [
    "###"
   ]
  },
  {
   "cell_type": "markdown",
   "metadata": {},
   "source": [
    "## Training"
   ]
  },
  {
   "cell_type": "markdown",
   "metadata": {},
   "source": [
    "If you initialise [wandb](https://wandb.ai/site), the pipeline will automatically log all metrics to\n",
    "wandb. However, we should pass in a dictionary with all of our hyperaparameters so they're on \n",
    "wandb. \n",
    "\n",
    "We strongly encourage users to make use of wandb in order to understand the training process."
   ]
  },
  {
   "cell_type": "code",
   "execution_count": 83,
   "metadata": {
    "ExecuteTime": {
     "end_time": "2023-12-17T20:36:38.861695500Z",
     "start_time": "2023-12-17T20:36:34.374546900Z"
    }
   },
   "outputs": [
    {
     "data": {
      "text/plain": "VBox(children=(Label(value='Waiting for wandb.init()...\\r'), FloatProgress(value=0.011111111111111112, max=1.0…",
      "application/vnd.jupyter.widget-view+json": {
       "version_major": 2,
       "version_minor": 0,
       "model_id": "01e41c7a5a6f41a3b75b3b5502304950"
      }
     },
     "metadata": {},
     "output_type": "display_data"
    },
    {
     "data": {
      "text/plain": "<IPython.core.display.HTML object>",
      "text/html": "Tracking run with wandb version 0.16.1"
     },
     "metadata": {},
     "output_type": "display_data"
    },
    {
     "data": {
      "text/plain": "<IPython.core.display.HTML object>",
      "text/html": "Run data is saved locally in <code>.cache\\wandb\\run-20231217_203635-xw2esyel</code>"
     },
     "metadata": {},
     "output_type": "display_data"
    },
    {
     "data": {
      "text/plain": "<IPython.core.display.HTML object>",
      "text/html": "Syncing run <strong><a href='https://wandb.ai/cat1/sparse-autoencoder/runs/xw2esyel' target=\"_blank\">dashing-terrain-59</a></strong> to <a href='https://wandb.ai/cat1/sparse-autoencoder' target=\"_blank\">Weights & Biases</a> (<a href='https://wandb.me/run' target=\"_blank\">docs</a>)<br/>"
     },
     "metadata": {},
     "output_type": "display_data"
    },
    {
     "data": {
      "text/plain": "<IPython.core.display.HTML object>",
      "text/html": " View project at <a href='https://wandb.ai/cat1/sparse-autoencoder' target=\"_blank\">https://wandb.ai/cat1/sparse-autoencoder</a>"
     },
     "metadata": {},
     "output_type": "display_data"
    },
    {
     "data": {
      "text/plain": "<IPython.core.display.HTML object>",
      "text/html": " View run at <a href='https://wandb.ai/cat1/sparse-autoencoder/runs/xw2esyel' target=\"_blank\">https://wandb.ai/cat1/sparse-autoencoder/runs/xw2esyel</a>"
     },
     "metadata": {},
     "output_type": "display_data"
    },
    {
     "data": {
      "text/html": "<button onClick=\"this.nextSibling.style.display='block';this.style.display='none';\">Display W&B run</button><iframe src='https://wandb.ai/cat1/sparse-autoencoder/runs/xw2esyel?jupyter=true' style='border:none;width:100%;height:420px;display:none;'></iframe>",
      "text/plain": "<wandb.sdk.wandb_run.Run at 0x14c221c0110>"
     },
     "execution_count": 83,
     "metadata": {},
     "output_type": "execute_result"
    }
   ],
   "source": [
    "Path(\".cache/\").mkdir(exist_ok=True)\n",
    "# wandb.init(\n",
    "#     project=\"sparse-autoencoder\",\n",
    "#     dir=\".cache\",\n",
    "#     config=hyperparameters,\n",
    "# )"
   ]
  },
  {
   "cell_type": "code",
   "execution_count": 92,
   "metadata": {
    "ExecuteTime": {
     "end_time": "2023-12-17T21:12:22.756625400Z",
     "start_time": "2023-12-17T21:11:07.086615600Z"
    }
   },
   "outputs": [
    {
     "data": {
      "text/plain": "Activations trained on:   0%|          | 0/100000 [00:00<?, ?it/s]",
      "application/vnd.jupyter.widget-view+json": {
       "version_major": 2,
       "version_minor": 0,
       "model_id": "3be963cf549c47e9844f3ec4c67c69fb"
      }
     },
     "metadata": {},
     "output_type": "display_data"
    }
   ],
   "source": [
    "max_store_size = 1_000_0\n",
    "max_activations = 10_000_0\n",
    "resample_frequency = 2_500_0\n",
    "source_data_batch_size = 8\n",
    "\n",
    "pipeline = Pipeline(\n",
    "    cache_name=src_model_activation_hook_point,\n",
    "    layer=src_model_activation_layer,\n",
    "    source_model=src_model,\n",
    "    autoencoder=autoencoder,\n",
    "    source_dataset=source_data,\n",
    "    optimizer=optimizer,\n",
    "    loss=loss,\n",
    "    activation_resampler=activation_resampler,\n",
    "    source_data_batch_size=source_data_batch_size,\n",
    ")\n",
    "\n",
    "# pipeline.run_pipeline(\n",
    "#     train_batch_size=int(hyperparameters[\"train_batch_size\"]),\n",
    "#     max_store_size=max_store_size,\n",
    "#     # Sizes for demo purposes (you probably want to scale these by 10x)\n",
    "#     max_activations=max_activations,\n",
    "#     resample_frequency=resample_frequency,\n",
    "# )\n",
    "\n",
    "# pipeline.run_pipeline(\n",
    "#     train_batch_size=int(hyperparameters[\"train_batch_size\"]),\n",
    "#     max_store_size=1_000_000,\n",
    "#     # Sizes for demo purposes (you probably want to scale these by 10x)\n",
    "#     max_activations=10_000_000,\n",
    "#     resample_frequency=2_500_000,\n",
    "# )"
   ]
  },
  {
   "cell_type": "code",
   "execution_count": null,
   "outputs": [],
   "source": [
    "from sparse_autoencoder.metrics.post_train.fvu_metric import FVUMetric\n",
    "from sparse_autoencoder.metrics.post_train.sparsity import SparsityMetric\n",
    "from sparse_autoencoder.metrics.post_train.abstract_post_train_metric import PostTrainMetricData\n",
    "from torch.utils.data import DataLoader\n",
    "\n",
    "\n",
    "def get_fvu_sparsity(autoencoder, source_data, pipeline, max_store_size, source_data_batch_size):\n",
    "    store_size: int = max_store_size - max_store_size % (\n",
    "        source_data_batch_size * source_data.context_size\n",
    "    )\n",
    "\n",
    "    activation_store = pipeline.generate_activations(store_size=store_size)\n",
    "    activations_dataloader = DataLoader(\n",
    "                activation_store,\n",
    "                batch_size=int(hyperparameters[\"train_batch_size\"]),\n",
    "            )\n",
    "\n",
    "    for activation_batch in activations_dataloader:\n",
    "        data = PostTrainMetricData(\n",
    "            input_activations = activation_batch,\n",
    "            learned_activations = torch.tensor([0]),\n",
    "            decoded_activations = torch.tensor([0]),\n",
    "            model = autoencoder\n",
    "        )\n",
    "\n",
    "        # fvu uses only input_activations and model\n",
    "        fvu_metric = FVUMetric()\n",
    "        fvu = fvu_metric.calculate(data)\n",
    "        \n",
    "        sparsity_metric = SparsityMetric()\n",
    "        sparsity = sparsity_metric.calculate(data)\n",
    "        \n",
    "        break\n",
    "    return sparsity, fvu\n",
    "\n",
    "def get_fvu_sparsity_average(autoencoder, source_data, pipeline, max_store_size, source_data_batch_size, num_iterations):\n",
    "    fvu_values = []\n",
    "    sparsity_values = []\n",
    "\n",
    "    for i in range(num_iterations):\n",
    "        sparsity_dict, fvu_dict = get_fvu_sparsity(autoencoder, source_data, pipeline, max_store_size, source_data_batch_size)\n",
    "    \n",
    "        sparsity = sparsity_dict['sparsity']\n",
    "        fvu = fvu_dict['fvu'].item()\n",
    "\n",
    "        sparsity_values.append(sparsity)\n",
    "        fvu_values.append(fvu)\n",
    "\n",
    "\n",
    "    mean_fvu = sum(fvu_values) / num_iterations\n",
    "    mean_sparsity = sum(sparsity_values) / num_iterations\n",
    "\n",
    "    variance_fvu = sum((x - mean_fvu) ** 2 for x in fvu_values) / num_iterations\n",
    "    variance_sparsity = sum((x - mean_sparsity) ** 2 for x in sparsity_values) / num_iterations\n",
    "\n",
    "    return mean_sparsity, mean_fvu, variance_sparsity, variance_fvu"
   ],
   "metadata": {
    "collapsed": false
   }
  },
  {
   "cell_type": "code",
   "execution_count": null,
   "outputs": [],
   "source": [
    "min_l1_coefficient = 0.0001  \n",
    "max_l1_coefficient = 0.01   \n",
    "num_runs = 6              \n",
    "\n",
    "save = True\n",
    "\n",
    "step_size = (max_l1_coefficient - min_l1_coefficient) / (num_runs - 1)\n",
    "\n",
    "for i in range(num_runs):\n",
    "    run_name = f\"run_{i}\"  \n",
    "    with wandb.init(project=\"sparse-autoencoder\", name=run_name, dir=\".cache\", config=hyperparameters):\n",
    "        \n",
    "        current_l1_coefficient = round(min_l1_coefficient + (i * step_size), 6)\n",
    "\n",
    "        loss = LossReducer(\n",
    "            LearnedActivationsL1Loss(l1_coefficient=current_l1_coefficient),\n",
    "            MSEReconstructionLoss(),\n",
    "        )\n",
    "\n",
    "        pipeline = Pipeline(\n",
    "            cache_name=src_model_activation_hook_point,\n",
    "            layer=src_model_activation_layer,\n",
    "            source_model=src_model,\n",
    "            autoencoder=autoencoder,\n",
    "            source_dataset=source_data,\n",
    "            optimizer=optimizer,\n",
    "            loss=loss,\n",
    "            activation_resampler=activation_resampler,\n",
    "            source_data_batch_size=source_data_batch_size,\n",
    "        )\n",
    "\n",
    "        pipeline.run_pipeline(\n",
    "            train_batch_size=int(hyperparameters[\"train_batch_size\"]),\n",
    "            max_store_size=max_store_size,\n",
    "            max_activations=max_activations,\n",
    "            resample_frequency=resample_frequency,\n",
    "        )\n",
    "        \n",
    "        \n",
    "        sparsity, fvu, variance_sparsity, variance_fvu = get_fvu_sparsity_average(autoencoder, source_data, pipeline, max_store_size, source_data_batch_size, num_iterations=50)\n",
    "\n",
    "        wandb.log({\"sparsity\": sparsity, \"fvu\": fvu, \"l1_coefficient\": current_l1_coefficient, \"variance_sparsity\": variance_sparsity, \"variance_fvu\": variance_fvu})\n",
    "\n",
    "        filename = f\"fista_{i}_{current_l1_coefficient}\"\n",
    "        if save:\n",
    "            with open(filename + \".txt\", 'w') as file:\n",
    "                for key, value in hyperparameters.items():\n",
    "                    file.write(f\"{key}: {value}\\n\")\n",
    "                file.write(f\"l1_coefficient: {current_l1_coefficient}\\n\")  \n",
    "                file.write(f\"sparsity: {sparsity}\\n\")\n",
    "                file.write(f\"fvu: {fvu}\\n\")\n",
    "                file.write(f\"variance_sparsity: {variance_sparsity}\\n\")\n",
    "                file.write(f\"variance_fvu: {variance_fvu}\\n\")\n",
    "\n",
    "            torch.save(autoencoder.state_dict(), filename + \".pt\")\n"
   ],
   "metadata": {
    "collapsed": false
   }
  },
  {
   "cell_type": "code",
   "execution_count": 86,
   "metadata": {
    "ExecuteTime": {
     "end_time": "2023-12-17T20:37:50.850983900Z",
     "start_time": "2023-12-17T20:37:37.632303500Z"
    }
   },
   "outputs": [
    {
     "data": {
      "text/plain": "VBox(children=(Label(value='0.001 MB of 0.001 MB uploaded\\r'), FloatProgress(value=1.0, max=1.0)))",
      "application/vnd.jupyter.widget-view+json": {
       "version_major": 2,
       "version_minor": 0,
       "model_id": "54041c257e144e7ca497532225279dfb"
      }
     },
     "metadata": {},
     "output_type": "display_data"
    },
    {
     "data": {
      "text/plain": "<IPython.core.display.HTML object>",
      "text/html": "W&B sync reduced upload amount by 31.0%             "
     },
     "metadata": {},
     "output_type": "display_data"
    },
    {
     "data": {
      "text/plain": "<IPython.core.display.HTML object>",
      "text/html": "<style>\n    table.wandb td:nth-child(1) { padding: 0 10px; text-align: left ; width: auto;} td:nth-child(2) {text-align: left ; width: 100%}\n    .wandb-row { display: flex; flex-direction: row; flex-wrap: wrap; justify-content: flex-start; width: 100% }\n    .wandb-col { display: flex; flex-direction: column; flex-basis: 100%; flex: 1; padding: 10px; }\n    </style>\n<div class=\"wandb-row\"><div class=\"wandb-col\"><h3>Run history:</h3><br/><table class=\"wandb\"><tr><td>LearnedActivationsL1Loss</td><td>▃▅▅█▂▁▁▁▁▁▂▁▁▁▁▂▂▂▁▁</td></tr><tr><td>LossReducer</td><td>▂▄▅█▁▁▁▁▁▁▁▁▁▁▁▁▁▁▁▁</td></tr><tr><td>MSEReconstructionLoss</td><td>▂▄▅█▁▁▁▁▁▁▁▁▁▁▁▁▁▁▁▁</td></tr></table><br/></div><div class=\"wandb-col\"><h3>Run summary:</h3><br/><table class=\"wandb\"><tr><td>LearnedActivationsL1Loss</td><td>0.04742</td></tr><tr><td>LossReducer</td><td>0.04882</td></tr><tr><td>MSEReconstructionLoss</td><td>0.0014</td></tr></table><br/></div></div>"
     },
     "metadata": {},
     "output_type": "display_data"
    },
    {
     "data": {
      "text/plain": "<IPython.core.display.HTML object>",
      "text/html": " View run <strong style=\"color:#cdcd00\">dashing-terrain-59</strong> at: <a href='https://wandb.ai/cat1/sparse-autoencoder/runs/xw2esyel' target=\"_blank\">https://wandb.ai/cat1/sparse-autoencoder/runs/xw2esyel</a><br/> View job at <a href='https://wandb.ai/cat1/sparse-autoencoder/jobs/QXJ0aWZhY3RDb2xsZWN0aW9uOjEyMzA3MjA0OQ==/version_details/v2' target=\"_blank\">https://wandb.ai/cat1/sparse-autoencoder/jobs/QXJ0aWZhY3RDb2xsZWN0aW9uOjEyMzA3MjA0OQ==/version_details/v2</a><br/>Synced 5 W&B file(s), 0 media file(s), 2 artifact file(s) and 0 other file(s)"
     },
     "metadata": {},
     "output_type": "display_data"
    },
    {
     "data": {
      "text/plain": "<IPython.core.display.HTML object>",
      "text/html": "Find logs at: <code>.cache\\wandb\\run-20231217_203635-xw2esyel\\logs</code>"
     },
     "metadata": {},
     "output_type": "display_data"
    }
   ],
   "source": [
    "wandb.finish()"
   ]
  },
  {
   "cell_type": "markdown",
   "metadata": {},
   "source": [
    "## Training Advice\n",
    "\n",
    "-- Unfinished --\n",
    "\n",
    "- Check recovery loss is low while sparsity is low as well (<20 L1) usually.\n",
    "- Can't be sure features are useful until you dig into them more. "
   ]
  },
  {
   "cell_type": "markdown",
   "metadata": {},
   "source": [
    "# Analysis\n",
    "\n",
    "-- Unfinished --"
   ]
  },
  {
   "cell_type": "code",
   "execution_count": 86,
   "metadata": {
    "ExecuteTime": {
     "end_time": "2023-12-17T20:37:50.871881400Z",
     "start_time": "2023-12-17T20:37:50.855922700Z"
    }
   },
   "outputs": [],
   "source": []
  }
 ],
 "metadata": {
  "kernelspec": {
   "display_name": ".venv",
   "language": "python",
   "name": "python3"
  },
  "language_info": {
   "codemirror_mode": {
    "name": "ipython",
    "version": 3
   },
   "file_extension": ".py",
   "mimetype": "text/x-python",
   "name": "python",
   "nbconvert_exporter": "python",
   "pygments_lexer": "ipython3",
   "version": "3.11.6"
  }
 },
 "nbformat": 4,
 "nbformat_minor": 2
}
